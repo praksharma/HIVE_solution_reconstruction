{
 "cells": [
  {
   "cell_type": "code",
   "execution_count": 1,
   "metadata": {},
   "outputs": [],
   "source": [
    "import pandas as pd\n",
    "import matplotlib.pyplot as plt "
   ]
  },
  {
   "cell_type": "code",
   "execution_count": 2,
   "metadata": {},
   "outputs": [
    {
     "name": "stdout",
     "output_type": "stream",
     "text": [
      "Index(['Block Name', 'Point ID', 'FamilyIdNode', 'Points_0', 'Points_1',\n",
      "       'Points_2', 'Points_Magnitude', 'Temperature'],\n",
      "      dtype='object')\n"
     ]
    }
   ],
   "source": [
    "# Load the entire_solution.csv file\n",
    "file_path = 'entire_solution.csv'\n",
    "df = pd.read_csv(file_path)\n",
    "\n",
    "# Display the first few rows to verify it's loaded correctly\n",
    "print(df.columns)"
   ]
  },
  {
   "cell_type": "code",
   "execution_count": 3,
   "metadata": {},
   "outputs": [
    {
     "name": "stdout",
     "output_type": "stream",
     "text": [
      "   Points_0  Points_1  Points_2  Temperature\n",
      "0       0.0      0.00      0.00      34.9810\n",
      "1       0.0      0.00      0.02      36.7518\n",
      "2       0.0      0.01      0.02      40.4298\n",
      "3       0.0      0.04      0.02      40.2252\n",
      "4       0.0      0.05      0.02      36.5370\n"
     ]
    }
   ],
   "source": [
    "# Select only the desired columns\n",
    "df_filtered = df[['Points_0', 'Points_1', 'Points_2', 'Temperature']]\n",
    "\n",
    "# Display the first few rows to verify the result\n",
    "print(df_filtered.head())"
   ]
  },
  {
   "cell_type": "code",
   "execution_count": 12,
   "metadata": {},
   "outputs": [],
   "source": [
    "# Load the boundary node files\n",
    "pipe_face_df = pd.read_csv('BC nodal coordinates/individual csv file/PipeFace.csv')[['Points_0', 'Points_1', 'Points_2']]\n",
    "tile_top_df = pd.read_csv('BC nodal coordinates/individual csv file/TileTop.csv')[['Points_0', 'Points_1', 'Points_2']]"
   ]
  },
  {
   "cell_type": "code",
   "execution_count": 13,
   "metadata": {},
   "outputs": [],
   "source": [
    "# Merge to find matching nodes and extract temperatures for PipeFace\n",
    "pipe_face_temp = pd.merge(pipe_face_df, df_filtered, on=['Points_0', 'Points_1', 'Points_2'], how='inner')\n",
    "\n",
    "# Merge to find matching nodes and extract temperatures for TileTop\n",
    "tile_top_temp = pd.merge(tile_top_df, df_filtered, on=['Points_0', 'Points_1', 'Points_2'], how='inner')\n"
   ]
  },
  {
   "cell_type": "code",
   "execution_count": 14,
   "metadata": {},
   "outputs": [],
   "source": [
    "# Define the file paths for saving\n",
    "ground_truth_path = 'training_dataset/ground_truth.csv'\n",
    "pipe_face_path = 'training_dataset/PipeFace_Temperature.csv'\n",
    "tile_top_path = 'training_dataset/TileTop_Temperature.csv'"
   ]
  },
  {
   "cell_type": "code",
   "execution_count": 15,
   "metadata": {},
   "outputs": [],
   "source": [
    "# Save the DataFrames to CSV files\n",
    "df_filtered.to_csv(ground_truth_path, index=False)\n",
    "pipe_face_temp.to_csv(pipe_face_path, index=False)\n",
    "tile_top_temp.to_csv(tile_top_path, index=False)"
   ]
  },
  {
   "cell_type": "code",
   "execution_count": null,
   "metadata": {},
   "outputs": [],
   "source": []
  },
  {
   "cell_type": "code",
   "execution_count": 4,
   "metadata": {},
   "outputs": [],
   "source": [
    "# fig = plt.figure(dpi=200)\n",
    "# ax = fig.add_subplot(projection='3d')\n",
    "# ax.scatter(df_filtered['Points_0'], df_filtered['Points_1'], df_filtered['Points_2'], c=df_filtered['Temperature'], cmap='jet', linewidth=0.1)"
   ]
  },
  {
   "cell_type": "code",
   "execution_count": null,
   "metadata": {},
   "outputs": [],
   "source": []
  }
 ],
 "metadata": {
  "kernelspec": {
   "display_name": "base",
   "language": "python",
   "name": "python3"
  },
  "language_info": {
   "codemirror_mode": {
    "name": "ipython",
    "version": 3
   },
   "file_extension": ".py",
   "mimetype": "text/x-python",
   "name": "python",
   "nbconvert_exporter": "python",
   "pygments_lexer": "ipython3",
   "version": "3.9.16"
  }
 },
 "nbformat": 4,
 "nbformat_minor": 2
}
