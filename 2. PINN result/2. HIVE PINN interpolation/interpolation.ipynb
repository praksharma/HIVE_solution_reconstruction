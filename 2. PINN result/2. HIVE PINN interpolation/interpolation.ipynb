{
 "cells": [
  {
   "cell_type": "code",
   "execution_count": 1,
   "metadata": {},
   "outputs": [],
   "source": [
    "import matplotlib.pyplot as plt\n",
    "import numpy as np\n",
    "import pandas as pd"
   ]
  },
  {
   "cell_type": "code",
   "execution_count": 2,
   "metadata": {},
   "outputs": [
    {
     "data": {
      "text/plain": [
       "(Index(['Joule_heating', 'Points_0', 'Points_1', 'Points_2'], dtype='object'),\n",
       " (27935, 4))"
      ]
     },
     "execution_count": 2,
     "metadata": {},
     "output_type": "execute_result"
    }
   ],
   "source": [
    "df = pd.read_csv('EM_load.csv') # EM load for pure heat conduction\n",
    "df.keys(), df.shape"
   ]
  },
  {
   "cell_type": "code",
   "execution_count": 3,
   "metadata": {},
   "outputs": [
    {
     "data": {
      "image/png": "[encoded data removed]",
      "text/plain": [
       "<Figure size 640x480 with 1 Axes>"
      ]
     },
     "metadata": {},
     "output_type": "display_data"
    }
   ],
   "source": [
    "plt.hist(df['Joule_heating'], bins=100)\n",
    "plt.xscale('log')\n",
    "plt.show()"
   ]
  },
  {
   "cell_type": "code",
   "execution_count": 11,
   "metadata": {},
   "outputs": [
    {
     "data": {
      "image/png": "[encoded data removed]",
      "text/plain": [
       "<Figure size 640x480 with 1 Axes>"
      ]
     },
     "metadata": {},
     "output_type": "display_data"
    },
    {
     "data": {
      "text/plain": [
       "(25687, 4)"
      ]
     },
     "execution_count": 11,
     "metadata": {},
     "output_type": "execute_result"
    }
   ],
   "source": [
    "# Filter out the cells with Joule heating less than 1e-3\n",
    "filtered_df = df[df['Joule_heating'] > 1e-1]\n",
    "plt.hist(filtered_df['Joule_heating'], bins=100)\n",
    "plt.xscale('log')\n",
    "plt.show()\n",
    "filtered_df.shape"
   ]
  },
  {
   "cell_type": "code",
   "execution_count": 10,
   "metadata": {},
   "outputs": [],
   "source": [
    "filtered_df.to_csv('filtered_EM_Loads.csv', index=False)"
   ]
  },
  {
   "cell_type": "code",
   "execution_count": 13,
   "metadata": {},
   "outputs": [
    {
     "data": {
      "text/plain": [
       "(count    27935.000000\n",
       " mean         2.382976\n",
       " std          1.556873\n",
       " min          0.000046\n",
       " 25%          1.058380\n",
       " 50%          2.401860\n",
       " 75%          3.524385\n",
       " max          6.129640\n",
       " Name: Joule_heating, dtype: float64,\n",
       " count    25687.000000\n",
       " mean         2.587726\n",
       " std          1.454288\n",
       " min          0.100068\n",
       " 25%          1.416450\n",
       " 50%          2.580510\n",
       " 75%          3.641045\n",
       " max          6.129640\n",
       " Name: Joule_heating, dtype: float64)"
      ]
     },
     "execution_count": 13,
     "metadata": {},
     "output_type": "execute_result"
    }
   ],
   "source": [
    "df[\"Joule_heating\"].describe(), filtered_df[\"Joule_heating\"].describe()"
   ]
  },
  {
   "cell_type": "markdown",
   "metadata": {},
   "source": [
    "# Linear interpolation"
   ]
  },
  {
   "cell_type": "code",
   "execution_count": 14,
   "metadata": {},
   "outputs": [],
   "source": [
    "from sklearn.preprocessing import PolynomialFeatures\n",
    "from sklearn.linear_model import LinearRegression\n",
    "from sklearn.pipeline import make_pipeline"
   ]
  },
  {
   "cell_type": "code",
   "execution_count": 36,
   "metadata": {},
   "outputs": [],
   "source": [
    "# Assume filtered_df is your DataFrame and it's already defined\n",
    "filtered_df = filtered_df.rename(columns={'Points_0': 'X', 'Points_1': 'Y', 'Points_2': 'Z'})\n",
    "X = filtered_df[['X', 'Y', 'Z']]\n",
    "y = filtered_df['Joule_heating']"
   ]
  },
  {
   "cell_type": "code",
   "execution_count": 37,
   "metadata": {},
   "outputs": [],
   "source": [
    "# Choose the degree of the polynomial. For quadratic and cubic terms, degree=3\n",
    "degree = 5\n",
    "\n",
    "# Create a pipeline that first transforms the features to polynomial features,\n",
    "# and then fits a linear regression model\n",
    "model = make_pipeline(PolynomialFeatures(degree), LinearRegression())"
   ]
  },
  {
   "cell_type": "code",
   "execution_count": 38,
   "metadata": {},
   "outputs": [
    {
     "data": {
      "text/html": [
       "<style>#sk-container-id-5 {color: black;background-color: white;}#sk-container-id-5 pre{padding: 0;}#sk-container-id-5 div.sk-toggleable {background-color: white;}#sk-container-id-5 label.sk-toggleable__label {cursor: pointer;display: block;width: 100%;margin-bottom: 0;padding: 0.3em;box-sizing: border-box;text-align: center;}#sk-container-id-5 label.sk-toggleable__label-arrow:before {content: \"▸\";float: left;margin-right: 0.25em;color: #696969;}#sk-container-id-5 label.sk-toggleable__label-arrow:hover:before {color: black;}#sk-container-id-5 div.sk-estimator:hover label.sk-toggleable__label-arrow:before {color: black;}#sk-container-id-5 div.sk-toggleable__content {max-height: 0;max-width: 0;overflow: hidden;text-align: left;background-color: #f0f8ff;}#sk-container-id-5 div.sk-toggleable__content pre {margin: 0.2em;color: black;border-radius: 0.25em;background-color: #f0f8ff;}#sk-container-id-5 input.sk-toggleable__control:checked~div.sk-toggleable__content {max-height: 200px;max-width: 100%;overflow: auto;}#sk-container-id-5 input.sk-toggleable__control:checked~label.sk-toggleable__label-arrow:before {content: \"▾\";}#sk-container-id-5 div.sk-estimator input.sk-toggleable__control:checked~label.sk-toggleable__label {background-color: #d4ebff;}#sk-container-id-5 div.sk-label input.sk-toggleable__control:checked~label.sk-toggleable__label {background-color: #d4ebff;}#sk-container-id-5 input.sk-hidden--visually {border: 0;clip: rect(1px 1px 1px 1px);clip: rect(1px, 1px, 1px, 1px);height: 1px;margin: -1px;overflow: hidden;padding: 0;position: absolute;width: 1px;}#sk-container-id-5 div.sk-estimator {font-family: monospace;background-color: #f0f8ff;border: 1px dotted black;border-radius: 0.25em;box-sizing: border-box;margin-bottom: 0.5em;}#sk-container-id-5 div.sk-estimator:hover {background-color: #d4ebff;}#sk-container-id-5 div.sk-parallel-item::after {content: \"\";width: 100%;border-bottom: 1px solid gray;flex-grow: 1;}#sk-container-id-5 div.sk-label:hover label.sk-toggleable__label {background-color: #d4ebff;}#sk-container-id-5 div.sk-serial::before {content: \"\";position: absolute;border-left: 1px solid gray;box-sizing: border-box;top: 0;bottom: 0;left: 50%;z-index: 0;}#sk-container-id-5 div.sk-serial {display: flex;flex-direction: column;align-items: center;background-color: white;padding-right: 0.2em;padding-left: 0.2em;position: relative;}#sk-container-id-5 div.sk-item {position: relative;z-index: 1;}#sk-container-id-5 div.sk-parallel {display: flex;align-items: stretch;justify-content: center;background-color: white;position: relative;}#sk-container-id-5 div.sk-item::before, #sk-container-id-5 div.sk-parallel-item::before {content: \"\";position: absolute;border-left: 1px solid gray;box-sizing: border-box;top: 0;bottom: 0;left: 50%;z-index: -1;}#sk-container-id-5 div.sk-parallel-item {display: flex;flex-direction: column;z-index: 1;position: relative;background-color: white;}#sk-container-id-5 div.sk-parallel-item:first-child::after {align-self: flex-end;width: 50%;}#sk-container-id-5 div.sk-parallel-item:last-child::after {align-self: flex-start;width: 50%;}#sk-container-id-5 div.sk-parallel-item:only-child::after {width: 0;}#sk-container-id-5 div.sk-dashed-wrapped {border: 1px dashed gray;margin: 0 0.4em 0.5em 0.4em;box-sizing: border-box;padding-bottom: 0.4em;background-color: white;}#sk-container-id-5 div.sk-label label {font-family: monospace;font-weight: bold;display: inline-block;line-height: 1.2em;}#sk-container-id-5 div.sk-label-container {text-align: center;}#sk-container-id-5 div.sk-container {/* jupyter's `normalize.less` sets `[hidden] { display: none; }` but bootstrap.min.css set `[hidden] { display: none !important; }` so we also need the `!important` here to be able to override the default hidden behavior on the sphinx rendered scikit-learn.org. See: https://github.com/scikit-learn/scikit-learn/issues/21755 */display: inline-block !important;position: relative;}#sk-container-id-5 div.sk-text-repr-fallback {display: none;}</style><div id=\"sk-container-id-5\" class=\"sk-top-container\"><div class=\"sk-text-repr-fallback\"><pre>Pipeline(steps=[(&#x27;polynomialfeatures&#x27;, PolynomialFeatures(degree=5)),\n",
       "                (&#x27;linearregression&#x27;, LinearRegression())])</pre><b>In a Jupyter environment, please rerun this cell to show the HTML representation or trust the notebook. <br />On GitHub, the HTML representation is unable to render, please try loading this page with nbviewer.org.</b></div><div class=\"sk-container\" hidden><div class=\"sk-item sk-dashed-wrapped\"><div class=\"sk-label-container\"><div class=\"sk-label sk-toggleable\"><input class=\"sk-toggleable__control sk-hidden--visually\" id=\"sk-estimator-id-13\" type=\"checkbox\" ><label for=\"sk-estimator-id-13\" class=\"sk-toggleable__label sk-toggleable__label-arrow\">Pipeline</label><div class=\"sk-toggleable__content\"><pre>Pipeline(steps=[(&#x27;polynomialfeatures&#x27;, PolynomialFeatures(degree=5)),\n",
       "                (&#x27;linearregression&#x27;, LinearRegression())])</pre></div></div></div><div class=\"sk-serial\"><div class=\"sk-item\"><div class=\"sk-estimator sk-toggleable\"><input class=\"sk-toggleable__control sk-hidden--visually\" id=\"sk-estimator-id-14\" type=\"checkbox\" ><label for=\"sk-estimator-id-14\" class=\"sk-toggleable__label sk-toggleable__label-arrow\">PolynomialFeatures</label><div class=\"sk-toggleable__content\"><pre>PolynomialFeatures(degree=5)</pre></div></div></div><div class=\"sk-item\"><div class=\"sk-estimator sk-toggleable\"><input class=\"sk-toggleable__control sk-hidden--visually\" id=\"sk-estimator-id-15\" type=\"checkbox\" ><label for=\"sk-estimator-id-15\" class=\"sk-toggleable__label sk-toggleable__label-arrow\">LinearRegression</label><div class=\"sk-toggleable__content\"><pre>LinearRegression()</pre></div></div></div></div></div></div></div>"
      ],
      "text/plain": [
       "Pipeline(steps=[('polynomialfeatures', PolynomialFeatures(degree=5)),\n",
       "                ('linearregression', LinearRegression())])"
      ]
     },
     "execution_count": 38,
     "metadata": {},
     "output_type": "execute_result"
    }
   ],
   "source": [
    "# Fit the model\n",
    "model.fit(X, y)"
   ]
  },
  {
   "cell_type": "code",
   "execution_count": 39,
   "metadata": {},
   "outputs": [
    {
     "data": {
      "text/plain": [
       "0.9836222520624684"
      ]
     },
     "execution_count": 39,
     "metadata": {},
     "output_type": "execute_result"
    }
   ],
   "source": [
    "# Compute the R^2 score\n",
    "r2_score = model.score(X, y)\n",
    "r2_score"
   ]
  },
  {
   "cell_type": "code",
   "execution_count": 41,
   "metadata": {},
   "outputs": [],
   "source": [
    "# Assuming you have already fitted your model as before\n",
    "\n",
    "# For scikit-learn versions 0.22 and later\n",
    "feature_names = model.named_steps['polynomialfeatures'].get_feature_names_out(input_features=['X', 'Y', 'Z'])\n",
    "\n",
    "# Get coefficients from the linear model\n",
    "coefficients = model.named_steps['linearregression'].coef_\n",
    "intercept = model.named_steps['linearregression'].intercept_"
   ]
  },
  {
   "cell_type": "code",
   "execution_count": 42,
   "metadata": {},
   "outputs": [
    {
     "name": "stdout",
     "output_type": "stream",
     "text": [
      "Intercept: 6.978017791736729\n",
      "1: 21.516977281505323\n",
      "X: -3536.9510991371303\n",
      "Y: -2247.52844266164\n",
      "Z: -3009.5379557101382\n",
      "X^2: 123639.84462181397\n",
      "X Y: 321322.9304802402\n",
      "X Z: 273821.27502949105\n",
      "Y^2: 39693.009096262875\n",
      "Y Z: 182265.93260486296\n",
      "Z^2: 111756.20504266216\n",
      "X^3: -1705106.8211148928\n",
      "X^2 Y: -11595467.616203513\n",
      "X^2 Z: -5377969.52459639\n",
      "X Y^2: -7274843.9471622985\n",
      "X Y Z: -18195588.411099073\n",
      "X Z^2: -8418130.828109477\n",
      "Y^3: 228068.15462490357\n",
      "Y^2 Z: -2282084.0315432437\n",
      "Y Z^2: -3929069.4330136254\n",
      "Z^3: -1645960.685507223\n",
      "X^4: 92820250.69548121\n",
      "X^3 Y: -32993180.244342074\n",
      "X^3 Z: -101899553.83851652\n",
      "X^2 Y^2: 237292469.20600143\n",
      "X^2 Y Z: 834672229.2423542\n",
      "X^2 Z^2: -17220744.845361054\n",
      "X Y^3: 35570728.1974535\n",
      "X Y^2 Z: 357428783.91322553\n",
      "X Y Z^2: -201013771.21243405\n",
      "X Z^3: 423860152.7801994\n",
      "Y^4: -3906661.9372496605\n",
      "Y^3 Z: -52110837.13667488\n",
      "Y^2 Z^2: 77401616.89228153\n",
      "Y Z^3: 61835854.243192434\n",
      "Z^4: -74363718.99028182\n",
      "X^5: -559185289.5469693\n",
      "X^4 Y: -78680125.03555767\n",
      "X^4 Z: -1898492772.2463982\n",
      "X^3 Y^2: 437736360.397087\n",
      "X^3 Y Z: 939815276.5762401\n",
      "X^3 Z^2: 4888338824.809698\n",
      "X^2 Y^3: 186885278.7966636\n",
      "X^2 Y^2 Z: -17834040971.9838\n",
      "X^2 Y Z^2: 735471536.5106742\n",
      "X^2 Z^3: -4229125772.420257\n",
      "X Y^4: -417284471.25696373\n",
      "X Y^3 Z: 77019917.53250182\n",
      "X Y^2 Z^2: 4914067155.064107\n",
      "X Y Z^3: -1334500586.9632215\n",
      "X Z^4: -4241080756.849273\n",
      "Y^5: 25453701.524500072\n",
      "Y^4 Z: 555615159.5032792\n",
      "Y^3 Z^2: -175284660.26262727\n",
      "Y^2 Z^3: -1004421840.7812835\n",
      "Y Z^4: -86993267.64207625\n",
      "Z^5: 2346722989.685468\n"
     ]
    }
   ],
   "source": [
    "# Print out the polynomial terms and their coefficients\n",
    "print(\"Intercept:\", intercept)\n",
    "for coef, name in zip(coefficients, feature_names):\n",
    "    print(f\"{name}: {coef}\")"
   ]
  },
  {
   "cell_type": "markdown",
   "metadata": {},
   "source": [
    "# Sparse Linear interpolation"
   ]
  },
  {
   "cell_type": "code",
   "execution_count": 43,
   "metadata": {},
   "outputs": [],
   "source": [
    "from sklearn.linear_model import Lasso"
   ]
  },
  {
   "cell_type": "code",
   "execution_count": 69,
   "metadata": {},
   "outputs": [],
   "source": [
    "# alpha is the regularization strength; larger values specify stronger regularization.\n",
    "alpha = 0.0000001  # Example value, needs tuning\n",
    "# Create a pipeline that first transforms the features to polynomial features,\n",
    "# and then fits a Lasso regression model\n",
    "model = make_pipeline(PolynomialFeatures(degree), Lasso(alpha=alpha, max_iter=20000))"
   ]
  },
  {
   "cell_type": "code",
   "execution_count": 70,
   "metadata": {},
   "outputs": [
    {
     "data": {
      "text/html": [
       "<style>#sk-container-id-12 {color: black;background-color: white;}#sk-container-id-12 pre{padding: 0;}#sk-container-id-12 div.sk-toggleable {background-color: white;}#sk-container-id-12 label.sk-toggleable__label {cursor: pointer;display: block;width: 100%;margin-bottom: 0;padding: 0.3em;box-sizing: border-box;text-align: center;}#sk-container-id-12 label.sk-toggleable__label-arrow:before {content: \"▸\";float: left;margin-right: 0.25em;color: #696969;}#sk-container-id-12 label.sk-toggleable__label-arrow:hover:before {color: black;}#sk-container-id-12 div.sk-estimator:hover label.sk-toggleable__label-arrow:before {color: black;}#sk-container-id-12 div.sk-toggleable__content {max-height: 0;max-width: 0;overflow: hidden;text-align: left;background-color: #f0f8ff;}#sk-container-id-12 div.sk-toggleable__content pre {margin: 0.2em;color: black;border-radius: 0.25em;background-color: #f0f8ff;}#sk-container-id-12 input.sk-toggleable__control:checked~div.sk-toggleable__content {max-height: 200px;max-width: 100%;overflow: auto;}#sk-container-id-12 input.sk-toggleable__control:checked~label.sk-toggleable__label-arrow:before {content: \"▾\";}#sk-container-id-12 div.sk-estimator input.sk-toggleable__control:checked~label.sk-toggleable__label {background-color: #d4ebff;}#sk-container-id-12 div.sk-label input.sk-toggleable__control:checked~label.sk-toggleable__label {background-color: #d4ebff;}#sk-container-id-12 input.sk-hidden--visually {border: 0;clip: rect(1px 1px 1px 1px);clip: rect(1px, 1px, 1px, 1px);height: 1px;margin: -1px;overflow: hidden;padding: 0;position: absolute;width: 1px;}#sk-container-id-12 div.sk-estimator {font-family: monospace;background-color: #f0f8ff;border: 1px dotted black;border-radius: 0.25em;box-sizing: border-box;margin-bottom: 0.5em;}#sk-container-id-12 div.sk-estimator:hover {background-color: #d4ebff;}#sk-container-id-12 div.sk-parallel-item::after {content: \"\";width: 100%;border-bottom: 1px solid gray;flex-grow: 1;}#sk-container-id-12 div.sk-label:hover label.sk-toggleable__label {background-color: #d4ebff;}#sk-container-id-12 div.sk-serial::before {content: \"\";position: absolute;border-left: 1px solid gray;box-sizing: border-box;top: 0;bottom: 0;left: 50%;z-index: 0;}#sk-container-id-12 div.sk-serial {display: flex;flex-direction: column;align-items: center;background-color: white;padding-right: 0.2em;padding-left: 0.2em;position: relative;}#sk-container-id-12 div.sk-item {position: relative;z-index: 1;}#sk-container-id-12 div.sk-parallel {display: flex;align-items: stretch;justify-content: center;background-color: white;position: relative;}#sk-container-id-12 div.sk-item::before, #sk-container-id-12 div.sk-parallel-item::before {content: \"\";position: absolute;border-left: 1px solid gray;box-sizing: border-box;top: 0;bottom: 0;left: 50%;z-index: -1;}#sk-container-id-12 div.sk-parallel-item {display: flex;flex-direction: column;z-index: 1;position: relative;background-color: white;}#sk-container-id-12 div.sk-parallel-item:first-child::after {align-self: flex-end;width: 50%;}#sk-container-id-12 div.sk-parallel-item:last-child::after {align-self: flex-start;width: 50%;}#sk-container-id-12 div.sk-parallel-item:only-child::after {width: 0;}#sk-container-id-12 div.sk-dashed-wrapped {border: 1px dashed gray;margin: 0 0.4em 0.5em 0.4em;box-sizing: border-box;padding-bottom: 0.4em;background-color: white;}#sk-container-id-12 div.sk-label label {font-family: monospace;font-weight: bold;display: inline-block;line-height: 1.2em;}#sk-container-id-12 div.sk-label-container {text-align: center;}#sk-container-id-12 div.sk-container {/* jupyter's `normalize.less` sets `[hidden] { display: none; }` but bootstrap.min.css set `[hidden] { display: none !important; }` so we also need the `!important` here to be able to override the default hidden behavior on the sphinx rendered scikit-learn.org. See: https://github.com/scikit-learn/scikit-learn/issues/21755 */display: inline-block !important;position: relative;}#sk-container-id-12 div.sk-text-repr-fallback {display: none;}</style><div id=\"sk-container-id-12\" class=\"sk-top-container\"><div class=\"sk-text-repr-fallback\"><pre>Pipeline(steps=[(&#x27;polynomialfeatures&#x27;, PolynomialFeatures(degree=5)),\n",
       "                (&#x27;lasso&#x27;, Lasso(alpha=1e-07, max_iter=20000))])</pre><b>In a Jupyter environment, please rerun this cell to show the HTML representation or trust the notebook. <br />On GitHub, the HTML representation is unable to render, please try loading this page with nbviewer.org.</b></div><div class=\"sk-container\" hidden><div class=\"sk-item sk-dashed-wrapped\"><div class=\"sk-label-container\"><div class=\"sk-label sk-toggleable\"><input class=\"sk-toggleable__control sk-hidden--visually\" id=\"sk-estimator-id-34\" type=\"checkbox\" ><label for=\"sk-estimator-id-34\" class=\"sk-toggleable__label sk-toggleable__label-arrow\">Pipeline</label><div class=\"sk-toggleable__content\"><pre>Pipeline(steps=[(&#x27;polynomialfeatures&#x27;, PolynomialFeatures(degree=5)),\n",
       "                (&#x27;lasso&#x27;, Lasso(alpha=1e-07, max_iter=20000))])</pre></div></div></div><div class=\"sk-serial\"><div class=\"sk-item\"><div class=\"sk-estimator sk-toggleable\"><input class=\"sk-toggleable__control sk-hidden--visually\" id=\"sk-estimator-id-35\" type=\"checkbox\" ><label for=\"sk-estimator-id-35\" class=\"sk-toggleable__label sk-toggleable__label-arrow\">PolynomialFeatures</label><div class=\"sk-toggleable__content\"><pre>PolynomialFeatures(degree=5)</pre></div></div></div><div class=\"sk-item\"><div class=\"sk-estimator sk-toggleable\"><input class=\"sk-toggleable__control sk-hidden--visually\" id=\"sk-estimator-id-36\" type=\"checkbox\" ><label for=\"sk-estimator-id-36\" class=\"sk-toggleable__label sk-toggleable__label-arrow\">Lasso</label><div class=\"sk-toggleable__content\"><pre>Lasso(alpha=1e-07, max_iter=20000)</pre></div></div></div></div></div></div></div>"
      ],
      "text/plain": [
       "Pipeline(steps=[('polynomialfeatures', PolynomialFeatures(degree=5)),\n",
       "                ('lasso', Lasso(alpha=1e-07, max_iter=20000))])"
      ]
     },
     "execution_count": 70,
     "metadata": {},
     "output_type": "execute_result"
    }
   ],
   "source": [
    "# Fit the model\n",
    "model.fit(X, y)  # X and y defined as before"
   ]
  },
  {
   "cell_type": "code",
   "execution_count": 71,
   "metadata": {},
   "outputs": [
    {
     "data": {
      "text/plain": [
       "0.6403390817648125"
      ]
     },
     "execution_count": 71,
     "metadata": {},
     "output_type": "execute_result"
    }
   ],
   "source": [
    "# Compute the R^2 score\n",
    "r2_score = model.score(X, y)\n",
    "r2_score"
   ]
  },
  {
   "cell_type": "code",
   "execution_count": 72,
   "metadata": {},
   "outputs": [],
   "source": [
    "# Assuming you have already fitted your model as before\n",
    "\n",
    "# For scikit-learn versions 0.22 and later\n",
    "feature_names = model.named_steps['polynomialfeatures'].get_feature_names_out(input_features=['X', 'Y', 'Z'])\n",
    "\n",
    "# Get coefficients from the linear model\n",
    "coefficients = model.named_steps['lasso'].coef_\n",
    "intercept = model.named_steps['lasso'].intercept_"
   ]
  },
  {
   "cell_type": "code",
   "execution_count": 73,
   "metadata": {},
   "outputs": [
    {
     "name": "stdout",
     "output_type": "stream",
     "text": [
      "Intercept: -2.8205076554944988\n",
      "1: 0.0\n",
      "X: 480.0713501205895\n",
      "Y: 280.73892759085953\n",
      "Z: -505.7614452632182\n",
      "X^2: -10276.103508716058\n",
      "X Y: -11848.107927268124\n",
      "X Z: -3108.1971420758105\n",
      "Y^2: -4975.838379273534\n",
      "Y Z: 13610.26981306527\n",
      "Z^2: 19418.570161850697\n",
      "X^3: -0.0\n",
      "X^2 Y: 0.0\n",
      "X^2 Z: -0.0\n",
      "X Y^2: 223742.41742459673\n",
      "X Y Z: -0.0\n",
      "X Z^2: -0.0\n",
      "Y^3: -0.0\n",
      "Y^2 Z: -303454.4301386545\n",
      "Y Z^2: 0.0\n",
      "Z^3: 0.0\n",
      "X^4: -0.0\n",
      "X^3 Y: 0.0\n",
      "X^3 Z: -0.0\n",
      "X^2 Y^2: 0.0\n",
      "X^2 Y Z: 0.0\n",
      "X^2 Z^2: -0.0\n",
      "X Y^3: 0.0\n",
      "X Y^2 Z: 0.0\n",
      "X Y Z^2: -0.0\n",
      "X Z^3: 0.0\n",
      "Y^4: 0.0\n",
      "Y^3 Z: -0.0\n",
      "Y^2 Z^2: -0.0\n",
      "Y Z^3: 0.0\n",
      "Z^4: 0.0\n",
      "X^5: 0.0\n",
      "X^4 Y: 0.0\n",
      "X^4 Z: -0.0\n",
      "X^3 Y^2: 0.0\n",
      "X^3 Y Z: 0.0\n",
      "X^3 Z^2: -0.0\n",
      "X^2 Y^3: 0.0\n",
      "X^2 Y^2 Z: 0.0\n",
      "X^2 Y Z^2: 0.0\n",
      "X^2 Z^3: -0.0\n",
      "X Y^4: 0.0\n",
      "X Y^3 Z: 0.0\n",
      "X Y^2 Z^2: -0.0\n",
      "X Y Z^3: -0.0\n",
      "X Z^4: 0.0\n",
      "Y^5: 0.0\n",
      "Y^4 Z: -0.0\n",
      "Y^3 Z^2: -0.0\n",
      "Y^2 Z^3: -0.0\n",
      "Y Z^4: 0.0\n",
      "Z^5: 0.0\n"
     ]
    }
   ],
   "source": [
    "# Print out the polynomial terms and their coefficients\n",
    "print(\"Intercept:\", intercept)\n",
    "for coef, name in zip(coefficients, feature_names):\n",
    "    print(f\"{name}: {coef}\")"
   ]
  },
  {
   "cell_type": "code",
   "execution_count": null,
   "metadata": {},
   "outputs": [],
   "source": []
  },
  {
   "cell_type": "code",
   "execution_count": null,
   "metadata": {},
   "outputs": [],
   "source": []
  }
 ],
 "metadata": {
  "kernelspec": {
   "display_name": "base",
   "language": "python",
   "name": "python3"
  },
  "language_info": {
   "codemirror_mode": {
    "name": "ipython",
    "version": 3
   },
   "file_extension": ".py",
   "mimetype": "text/x-python",
   "name": "python",
   "nbconvert_exporter": "python",
   "pygments_lexer": "ipython3",
   "version": "3.9.16"
  }
 },
 "nbformat": 4,
 "nbformat_minor": 2
}
