{
 "cells": [
  {
   "cell_type": "code",
   "execution_count": 2,
   "metadata": {},
   "outputs": [
    {
     "data": {
      "text/plain": [
       "Index(['Points_0', 'Points_1', 'Points_2', 'Temperature'], dtype='object')"
      ]
     },
     "execution_count": 2,
     "metadata": {},
     "output_type": "execute_result"
    }
   ],
   "source": [
    "import pandas as pd\n",
    "\n",
    "# Load the point cloud data\n",
    "point_cloud_df = pd.read_csv('ground_truth.csv')\n",
    "point_cloud_df.keys()"
   ]
  },
  {
   "cell_type": "code",
   "execution_count": 3,
   "metadata": {},
   "outputs": [
    {
     "data": {
      "text/plain": [
       "Index(['X', 'Y', 'Z', 'Temperature'], dtype='object')"
      ]
     },
     "execution_count": 3,
     "metadata": {},
     "output_type": "execute_result"
    }
   ],
   "source": [
    "point_cloud_df = point_cloud_df.rename(columns={'Points_0': 'X', 'Points_1': 'Y', 'Points_2': 'Z'})\n",
    "point_cloud_df.keys()"
   ]
  },
  {
   "cell_type": "code",
   "execution_count": 7,
   "metadata": {},
   "outputs": [
    {
     "data": {
      "text/plain": [
       "(-1.0842e-19, 0.03, 0.0, 0.05, 0.0, 0.025)"
      ]
     },
     "execution_count": 7,
     "metadata": {},
     "output_type": "execute_result"
    }
   ],
   "source": [
    "min_x, max_x = point_cloud_df['X'].min(), point_cloud_df['X'].max()\n",
    "min_y, max_y = point_cloud_df['Y'].min(), point_cloud_df['Y'].max()\n",
    "min_z, max_z = point_cloud_df['Z'].min(), point_cloud_df['Z'].max()\n",
    "min_x, max_x, min_y, max_y, min_z, max_z"
   ]
  },
  {
   "cell_type": "markdown",
   "metadata": {},
   "source": [
    "# Uniform Sampling within the Bounding Box"
   ]
  },
  {
   "cell_type": "code",
   "execution_count": 6,
   "metadata": {},
   "outputs": [],
   "source": [
    "\n",
    "import numpy as np\n",
    "\n",
    "# Number of points to sample\n",
    "n_samples = 50  # Example, adjust based on your needs\n",
    "\n",
    "# Uniformly sample points\n",
    "sampled_points = np.random.uniform([min_x, min_y, min_z], [max_x, max_y, max_z], (n_samples, 3))\n"
   ]
  },
  {
   "cell_type": "markdown",
   "metadata": {},
   "source": [
    "# Rejection Sampling"
   ]
  },
  {
   "cell_type": "code",
   "execution_count": 8,
   "metadata": {},
   "outputs": [],
   "source": [
    "from scipy.spatial import KDTree\n",
    "\n",
    "# Build a KDTree for efficient nearest neighbor queries\n",
    "point_cloud_kdtree = KDTree(point_cloud_df[['X', 'Y', 'Z']])\n",
    "\n",
    "# Define a maximum acceptable distance from any point in the point cloud\n",
    "max_distance = 0.05  # Adjust based on the scale of your domain\n",
    "\n",
    "# Find the distance to the nearest point in the point cloud for each sampled point\n",
    "distances, _ = point_cloud_kdtree.query(sampled_points)\n",
    "\n",
    "# Filter the sampled points by distance, keeping only those within max_distance of the point cloud\n",
    "accepted_points = sampled_points[distances < max_distance]"
   ]
  },
  {
   "cell_type": "code",
   "execution_count": 9,
   "metadata": {},
   "outputs": [
    {
     "data": {
      "text/plain": [
       "(numpy.ndarray, (50, 3))"
      ]
     },
     "execution_count": 9,
     "metadata": {},
     "output_type": "execute_result"
    }
   ],
   "source": [
    "type(accepted_points), accepted_points.shape"
   ]
  },
  {
   "cell_type": "markdown",
   "metadata": {},
   "source": [
    "# Save as csv"
   ]
  },
  {
   "cell_type": "code",
   "execution_count": 10,
   "metadata": {},
   "outputs": [],
   "source": [
    "# Find the index of the nearest neighbor in the point cloud for each accepted point\n",
    "_, nearest_indices = point_cloud_kdtree.query(accepted_points)\n",
    "\n",
    "# Use these indices to look up the corresponding temperatures in the point cloud\n",
    "accepted_temperatures = point_cloud_df.iloc[nearest_indices]['Temperature'].values\n"
   ]
  },
  {
   "cell_type": "code",
   "execution_count": 11,
   "metadata": {},
   "outputs": [],
   "source": [
    "import pandas as pd\n",
    "\n",
    "# Create a DataFrame for the accepted points and their temperatures\n",
    "accepted_df = pd.DataFrame(accepted_points, columns=['X', 'Y', 'Z'])\n",
    "accepted_df['Temperature'] = accepted_temperatures\n",
    "\n",
    "# Save to CSV\n",
    "accepted_df.to_csv('accepted_points_with_temperature.csv', index=False)\n"
   ]
  }
 ],
 "metadata": {
  "kernelspec": {
   "display_name": "base",
   "language": "python",
   "name": "python3"
  },
  "language_info": {
   "codemirror_mode": {
    "name": "ipython",
    "version": 3
   },
   "file_extension": ".py",
   "mimetype": "text/x-python",
   "name": "python",
   "nbconvert_exporter": "python",
   "pygments_lexer": "ipython3",
   "version": "3.9.16"
  }
 },
 "nbformat": 4,
 "nbformat_minor": 2
}
