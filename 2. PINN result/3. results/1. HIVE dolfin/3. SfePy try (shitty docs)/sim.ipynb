{
 "cells": [
  {
   "cell_type": "code",
   "execution_count": 1,
   "metadata": {},
   "outputs": [
    {
     "name": "stdout",
     "output_type": "stream",
     "text": [
      "install jax and jaxlib to use terms_jax.py!\n",
      "sfepy: WARNING: module /home/hell/anaconda3/envs/torch/lib/python3.10/site-packages/sfepy/terms/terms_jax.py cannot be imported!\n",
      "sfepy: reason:\n",
      " cannot import name 'config' from 'jax.config' (/home/hell/anaconda3/envs/torch/lib/python3.10/site-packages/jax/config.py)\n"
     ]
    }
   ],
   "source": [
    "from sfepy.discrete.fem import Mesh"
   ]
  },
  {
   "cell_type": "code",
   "execution_count": 2,
   "metadata": {},
   "outputs": [],
   "source": [
    "filename_mesh = 'AMAZE.med'"
   ]
  }
 ],
 "metadata": {
  "kernelspec": {
   "display_name": "torch",
   "language": "python",
   "name": "python3"
  },
  "language_info": {
   "codemirror_mode": {
    "name": "ipython",
    "version": 3
   },
   "file_extension": ".py",
   "mimetype": "text/x-python",
   "name": "python",
   "nbconvert_exporter": "python",
   "pygments_lexer": "ipython3",
   "version": "3.10.4"
  }
 },
 "nbformat": 4,
 "nbformat_minor": 2
}
