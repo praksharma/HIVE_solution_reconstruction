{
 "cells": [
  {
   "cell_type": "code",
   "execution_count": 1,
   "metadata": {},
   "outputs": [],
   "source": [
    "from __future__ import absolute_import\n",
    "from sfepy import data_dir\n",
    "from sfepy.mechanics.matcoefs import stiffness_from_lame"
   ]
  },
  {
   "cell_type": "code",
   "execution_count": 2,
   "metadata": {},
   "outputs": [],
   "source": [
    "filename_mesh = 'cylinder.mesh'"
   ]
  },
  {
   "cell_type": "code",
   "execution_count": 3,
   "metadata": {},
   "outputs": [],
   "source": [
    "regions = {\n",
    "    'Omega' : 'all',\n",
    "    'Left' : ('vertices in (x < 0.001)', 'facet'),\n",
    "    'Right' : ('vertices in (x > 0.099)', 'facet'),\n",
    "    'SomewhereTop' : ('vertices in (z > 0.017) & (x > 0.03) & (x < 0.07)',\n",
    "                      'vertex'),\n",
    "}\n",
    "\n",
    "materials = {\n",
    "    'solid' : ({'D': stiffness_from_lame(dim=3, lam=1e1, mu=1e0)},),\n",
    "}\n",
    "\n",
    "fields = {\n",
    "    'displacement': ('real', 'vector', 'Omega', 1),\n",
    "}\n",
    "\n",
    "integrals = {\n",
    "    'i' : 1,\n",
    "}\n",
    "\n",
    "variables = {\n",
    "    'u' : ('unknown field', 'displacement', 0),\n",
    "    'v' : ('test field', 'displacement', 'u'),\n",
    "}\n",
    "\n",
    "ebcs = {\n",
    "    'Fixed' : ('Left', {'u.all' : 0.0}),\n",
    "    'Displaced' : ('Right', {'u.0' : 0.01, 'u.[1,2]' : 0.0}),\n",
    "    'PerturbedSurface' : ('SomewhereTop', {'u.2' : 0.005}),\n",
    "}\n",
    "\n",
    "equations = {\n",
    "    'balance_of_forces' :\n",
    "    \"\"\"dw_lin_elastic.i.Omega(solid.D, v, u) = 0\"\"\",\n",
    "}\n"
   ]
  },
  {
   "cell_type": "code",
   "execution_count": 4,
   "metadata": {},
   "outputs": [],
   "source": [
    "solvers = {\n",
    "    'ls': ('ls.auto_direct', {}),\n",
    "    'newton': ('nls.newton', {\n",
    "        'i_max'      : 1,\n",
    "        'eps_a'      : 1e-10,\n",
    "    }),\n",
    "    }"
   ]
  },
  {
   "cell_type": "code",
   "execution_count": 5,
   "metadata": {},
   "outputs": [
    {
     "name": "stdout",
     "output_type": "stream",
     "text": [
      "install jax and jaxlib to use terms_jax.py!\n",
      "sfepy: WARNING: module /home/hell/anaconda3/envs/sfepy/lib/python3.12/site-packages/sfepy/terms/terms_jax.py cannot be imported!\n",
      "sfepy: reason:\n",
      " No module named 'jax'\n",
      "sfepy: left over: ['__name__', '__doc__', '__package__', '__loader__', '__spec__', '__file__', '__cached__', '__builtins__', 'absolute_import', 'data_dir', 'stiffness_from_lame', 'equations', 'verbose', '_filename']\n",
      "sfepy: reading mesh (/home/hell/anaconda3/envs/sfepy/lib/python3.12/site-packages/sfepy/meshes/3d/cylinder.mesh)...\n",
      "sfepy:   number of vertices: 354\n",
      "sfepy:   number of cells:\n",
      "sfepy:     3_4: 1348\n",
      "sfepy: ...done in 0.00 s\n",
      "sfepy: creating regions...\n",
      "sfepy:     Omega\n",
      "sfepy:     Left\n",
      "sfepy:     Right\n",
      "sfepy:     SomewhereTop\n",
      "sfepy: ...done in 0.01 s\n",
      "sfepy: equation \"balance_of_forces\":\n",
      "sfepy: dw_lin_elastic.i.Omega(solid.D, v, u) = 0\n",
      "sfepy: using solvers:\n",
      "                ts: no ts\n",
      "               nls: newton\n",
      "                ls: ls\n",
      "sfepy: solver construction failed with: \"OSError('libdmumps.so: cannot open shared object file: No such file or directory')\"\n",
      "sfepy: 'ls.mumps' not available, trying 'ls.scipy_umfpack'\n",
      "sfepy: solver construction failed with: \"ValueError('UMFPACK not available!')\"\n",
      "sfepy: 'ls.scipy_umfpack' not available, trying 'ls.scipy_superlu'\n",
      "sfepy: using 'ls.scipy_superlu' solver\n",
      "sfepy: updating variables...\n",
      "sfepy: ...done\n",
      "sfepy: setting up dof connectivities...\n",
      "sfepy: ...done in 0.00 s\n",
      "sfepy: matrix shape: (886, 886)\n",
      "sfepy: assembling matrix graph...\n",
      "sfepy: ...done in 0.01 s\n",
      "sfepy: matrix structural nonzeros: 31052 (3.96e+00% fill)\n",
      "sfepy: updating variables...\n",
      "sfepy: ...done\n",
      "sfepy: updating materials...\n",
      "sfepy:     solid\n",
      "sfepy: ...done in 0.00 s\n",
      "sfepy: nls: iter: 0, residual: 4.778054e-03 (rel: 1.000000e+00)\n",
      "sfepy:   residual:    0.01 [s]\n",
      "sfepy:     matrix:    0.01 [s]\n",
      "sfepy:      solve:    0.01 [s]\n",
      "sfepy: nls: iter: 1, residual: 7.228728e-18 (rel: 1.512902e-15)\n",
      "sfepy: solved in 1 steps in 0.03 seconds\n"
     ]
    }
   ],
   "source": [
    "!sfepy-run linear_elastic.py"
   ]
  },
  {
   "cell_type": "code",
   "execution_count": 6,
   "metadata": {},
   "outputs": [
    {
     "name": "stdout",
     "output_type": "stream",
     "text": [
      "mesh from cylinder.vtk:\n",
      "  points:  354\n",
      "  cells:   1348\n",
      "  bounds:  [(-1.2246063538e-18, 0.1), (-0.02, 0.02), (-0.019999827242, 0.019999872274)]\n",
      "  scalars: node_groups, mat_id\n",
      "  vectors: u\n",
      "  steps:   1\n",
      "plot 0: u_magnitude(step 0); u_magnitude(step 0):glyphs=u, factor=1.49e+00\n"
     ]
    }
   ],
   "source": [
    "!sfepy-view cylinder.vtk"
   ]
  }
 ],
 "metadata": {
  "kernelspec": {
   "display_name": "sfepy",
   "language": "python",
   "name": "python3"
  },
  "language_info": {
   "codemirror_mode": {
    "name": "ipython",
    "version": 3
   },
   "file_extension": ".py",
   "mimetype": "text/x-python",
   "name": "python",
   "nbconvert_exporter": "python",
   "pygments_lexer": "ipython3",
   "version": "3.12.2"
  }
 },
 "nbformat": 4,
 "nbformat_minor": 2
}
