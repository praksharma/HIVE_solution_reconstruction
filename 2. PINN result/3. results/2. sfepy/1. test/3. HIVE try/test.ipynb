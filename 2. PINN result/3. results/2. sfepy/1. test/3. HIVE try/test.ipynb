{
 "cells": [
  {
   "cell_type": "code",
   "execution_count": 3,
   "metadata": {},
   "outputs": [],
   "source": [
    "from sfepy.discrete import Problem\n",
    "from sfepy.discrete.fem import Mesh, FEDomain\n",
    "from sfepy.discrete import (FieldVariable, Material, Integral, Function, Equation, Equations)\n",
    "from sfepy.terms import Term\n",
    "from sfepy.solvers.ls import ScipyDirect\n",
    "from sfepy.solvers.nls import Newton"
   ]
  },
  {
   "cell_type": "code",
   "execution_count": 4,
   "metadata": {},
   "outputs": [
    {
     "name": "stdout",
     "output_type": "stream",
     "text": [
      "sfepy: reading mesh (AMAZE.med)...\n",
      "sfepy:   number of vertices: 29133\n",
      "sfepy:   number of cells:\n",
      "sfepy:     1_2: 1753\n",
      "sfepy:     3_4: 131622\n",
      "sfepy:     2_3: 25990\n",
      "sfepy: ...done in 0.05 s\n",
      "sfepy: warning: mesh with topological dimension 1 lower than space dimension 3\n",
      "sfepy: - element orientation not checked!\n"
     ]
    }
   ],
   "source": [
    "# Load the .med mesh directly\n",
    "mesh = Mesh.from_file('AMAZE.med')\n",
    "domain = FEDomain('domain', mesh)"
   ]
  },
  {
   "cell_type": "code",
   "execution_count": null,
   "metadata": {},
   "outputs": [],
   "source": []
  },
  {
   "cell_type": "code",
   "execution_count": 7,
   "metadata": {},
   "outputs": [],
   "source": [
    "# Define regions using the named groups from the .med file\n",
    "regions = {\n",
    "    'Omega': 'all',\n",
    "    'Gamma_PipeFace': ('facet by name PipeFace', 'facet'),  # Use the group name directly\n",
    "    'Gamma_TileTop': ('facet by name TileTop', 'facet'),  # Use the group name directly\n",
    "}\n",
    "\n",
    "materials = {\n",
    "    'mat': ({'k': 1.0},),\n",
    "}\n",
    "\n",
    "fields = {\n",
    "    'temperature': ('real', 1, 'Omega', 1),\n",
    "}\n",
    "\n",
    "variables = {\n",
    "    'T': ('unknown field', 'temperature', 0),\n",
    "    'v': ('test field', 'temperature', 'T'),\n",
    "}\n",
    "\n",
    "ebcs = {\n",
    "    'TileTop': ('Gamma_TileTop', {'T.0': 1.0}),\n",
    "    'PipeFace': ('Gamma_PipeFace', {'T.0': -1.0}),\n",
    "}\n",
    "\n",
    "integrals = {\n",
    "    'i': 2,\n",
    "}\n",
    "\n",
    "solvers = {\n",
    "    'ls': ('ls.scipy_direct', {}),\n",
    "    'newton': ('nls.newton', {\n",
    "        'i_max': 1,\n",
    "        'eps_a': 1e-10,\n",
    "    }),\n",
    "}\n"
   ]
  },
  {
   "cell_type": "code",
   "execution_count": 8,
   "metadata": {},
   "outputs": [
    {
     "ename": "ValueError",
     "evalue": "missing equations in auto_conf mode!",
     "output_type": "error",
     "traceback": [
      "\u001b[0;31m---------------------------------------------------------------------------\u001b[0m",
      "\u001b[0;31mValueError\u001b[0m                                Traceback (most recent call last)",
      "Cell \u001b[0;32mIn[8], line 2\u001b[0m\n\u001b[1;32m      1\u001b[0m \u001b[38;5;66;03m# Initialize the problem without passing configurations in the constructor\u001b[39;00m\n\u001b[0;32m----> 2\u001b[0m problem \u001b[38;5;241m=\u001b[39m \u001b[43mProblem\u001b[49m\u001b[43m(\u001b[49m\u001b[38;5;124;43m'\u001b[39;49m\u001b[38;5;124;43mheat_conduction_problem\u001b[39;49m\u001b[38;5;124;43m'\u001b[39;49m\u001b[43m)\u001b[49m\n\u001b[1;32m      4\u001b[0m \u001b[38;5;66;03m# Prepare equations as a dictionary\u001b[39;00m\n\u001b[1;32m      5\u001b[0m equations_dict \u001b[38;5;241m=\u001b[39m {\n\u001b[1;32m      6\u001b[0m     \u001b[38;5;124m'\u001b[39m\u001b[38;5;124mheat_conduction\u001b[39m\u001b[38;5;124m'\u001b[39m: \u001b[38;5;124m'\u001b[39m\u001b[38;5;124mdw_laplace.i.Omega(mat.k, v, T) = 0\u001b[39m\u001b[38;5;124m'\u001b[39m,\n\u001b[1;32m      7\u001b[0m }\n",
      "File \u001b[0;32m~/anaconda3/envs/sfepy/lib/python3.12/site-packages/sfepy/discrete/problem.py:256\u001b[0m, in \u001b[0;36mProblem.__init__\u001b[0;34m(self, name, conf, functions, domain, fields, equations, auto_conf, active_only)\u001b[0m\n\u001b[1;32m    254\u001b[0m \u001b[38;5;28;01mif\u001b[39;00m auto_conf:\n\u001b[1;32m    255\u001b[0m     \u001b[38;5;28;01mif\u001b[39;00m equations \u001b[38;5;129;01mis\u001b[39;00m \u001b[38;5;28;01mNone\u001b[39;00m:\n\u001b[0;32m--> 256\u001b[0m         \u001b[38;5;28;01mraise\u001b[39;00m \u001b[38;5;167;01mValueError\u001b[39;00m(\u001b[38;5;124m'\u001b[39m\u001b[38;5;124mmissing equations in auto_conf mode!\u001b[39m\u001b[38;5;124m'\u001b[39m)\n\u001b[1;32m    258\u001b[0m     \u001b[38;5;28;01mif\u001b[39;00m fields \u001b[38;5;129;01mis\u001b[39;00m \u001b[38;5;28;01mNone\u001b[39;00m:\n\u001b[1;32m    259\u001b[0m         variables \u001b[38;5;241m=\u001b[39m equations\u001b[38;5;241m.\u001b[39mvariables\n",
      "\u001b[0;31mValueError\u001b[0m: missing equations in auto_conf mode!"
     ]
    }
   ],
   "source": [
    "# Initialize the problem without passing configurations in the constructor\n",
    "problem = Problem('heat_conduction_problem')\n",
    "\n",
    "# Prepare equations as a dictionary\n",
    "equations_dict = {\n",
    "    'heat_conduction': 'dw_laplace.i.Omega(mat.k, v, T) = 0',\n",
    "}\n",
    "\n",
    "# Now, set up the problem with all components\n",
    "problem.setup(domain=domain,\n",
    "              fields=fields,\n",
    "              materials=materials,\n",
    "              equations=Equations.from_conf(equations_dict, problem.fields),\n",
    "              integrals=integrals,\n",
    "              solvers=solvers,\n",
    "              bcs=Conditions.from_conf(ebcs, problem.fields))\n",
    "\n",
    "# Optionally, for manual control, you can initialize solvers and equations like this:\n",
    "problem.init_solvers()\n",
    "\n",
    "# Solve the problem\n",
    "problem.solve()"
   ]
  }
 ],
 "metadata": {
  "kernelspec": {
   "display_name": "sfepy",
   "language": "python",
   "name": "python3"
  },
  "language_info": {
   "codemirror_mode": {
    "name": "ipython",
    "version": 3
   },
   "file_extension": ".py",
   "mimetype": "text/x-python",
   "name": "python",
   "nbconvert_exporter": "python",
   "pygments_lexer": "ipython3",
   "version": "3.12.2"
  }
 },
 "nbformat": 4,
 "nbformat_minor": 2
}
